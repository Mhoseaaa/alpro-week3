{
 "cells": [
  {
   "cell_type": "code",
   "execution_count": 1,
   "id": "b7efc9e8",
   "metadata": {},
   "outputs": [
    {
     "name": "stdout",
     "output_type": "stream",
     "text": [
      "Masukkan suatu bilangan: -5\n",
      "Negatif\n"
     ]
    }
   ],
   "source": [
    "try:\n",
    "    bilangan = int(input(\"Masukkan suatu bilangan: \"))\n",
    "    result = \"Positif\" if bilangan > 0 else (\"Negatif\" if bilangan < 0 else \"Nol\")\n",
    "    print(result)\n",
    "except:\n",
    "    print(\"Input harus berupa bilangan bulat\")"
   ]
  },
  {
   "cell_type": "code",
   "execution_count": null,
   "id": "13d73cb0",
   "metadata": {},
   "outputs": [],
   "source": []
  }
 ],
 "metadata": {
  "kernelspec": {
   "display_name": "Python 3 (ipykernel)",
   "language": "python",
   "name": "python3"
  },
  "language_info": {
   "codemirror_mode": {
    "name": "ipython",
    "version": 3
   },
   "file_extension": ".py",
   "mimetype": "text/x-python",
   "name": "python",
   "nbconvert_exporter": "python",
   "pygments_lexer": "ipython3",
   "version": "3.11.5"
  }
 },
 "nbformat": 4,
 "nbformat_minor": 5
}
