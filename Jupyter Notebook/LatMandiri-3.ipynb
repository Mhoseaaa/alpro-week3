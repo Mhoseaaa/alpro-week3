{
 "cells": [
  {
   "cell_type": "code",
   "execution_count": 1,
   "id": "8b8c5421",
   "metadata": {},
   "outputs": [
    {
     "name": "stdout",
     "output_type": "stream",
     "text": [
      "Masukkan bulan (1-12): 2\n",
      "29 hari, karena tahun kabisat\n"
     ]
    }
   ],
   "source": [
    "masukan = input(\"Masukkan bulan (1-12): \")\n",
    "\n",
    "try:\n",
    "    bulan = int(masukan)\n",
    "    if bulan == 2:\n",
    "        print(\"29 hari, karena tahun kabisat\")\n",
    "    elif bulan == 4 or bulan == 6 or bulan == 9 or bulan == 11:\n",
    "        print(\"30 hari\")\n",
    "    elif bulan == 1 or bulan == 3 or bulan == 5 or bulan == 7 or bulan == 8 or bulan == 10 or bulan == 12:\n",
    "        print(\"31 hari\")\n",
    "    else:\n",
    "        print(\"Bulan tidak valid\")\n",
    "except:\n",
    "    print(\"Bulan tidak boleh huruf atau simbol!\")"
   ]
  },
  {
   "cell_type": "code",
   "execution_count": null,
   "id": "4b6a4ea9",
   "metadata": {},
   "outputs": [],
   "source": []
  }
 ],
 "metadata": {
  "kernelspec": {
   "display_name": "Python 3 (ipykernel)",
   "language": "python",
   "name": "python3"
  },
  "language_info": {
   "codemirror_mode": {
    "name": "ipython",
    "version": 3
   },
   "file_extension": ".py",
   "mimetype": "text/x-python",
   "name": "python",
   "nbconvert_exporter": "python",
   "pygments_lexer": "ipython3",
   "version": "3.11.5"
  }
 },
 "nbformat": 4,
 "nbformat_minor": 5
}
