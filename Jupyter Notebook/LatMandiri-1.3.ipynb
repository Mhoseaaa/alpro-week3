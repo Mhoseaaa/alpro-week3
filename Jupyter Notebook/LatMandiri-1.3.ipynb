{
 "cells": [
  {
   "cell_type": "code",
   "execution_count": null,
   "id": "f4c98d84",
   "metadata": {},
   "outputs": [],
   "source": [
    "a = input(\"Masukkan bilangan pertama: \")\n",
    "b = input(\"Masukkan bilangan kedua: \")\n",
    "c = input(\"Masukkan bilangan ketiga: \")\n",
    "\n",
    "try:\n",
    "    a = int(a)\n",
    "    b = int(b)\n",
    "    c = int(c)\n",
    "    \n",
    "    if a > b and a > 3:\n",
    "        print(a, \"adalah bilangan terbesar\")\n",
    "    elif b > a and b > c:\n",
    "        print(b, \"adalah bilangan terbesar\")\n",
    "    elif c > a and c > b:\n",
    "        print(c, \"adalah bilangan terbesar\")\n",
    "except:\n",
    "    print(\"Inputan tidak valid, isi menggunakan angka!\")"
   ]
  }
 ],
 "metadata": {
  "kernelspec": {
   "display_name": "Python 3 (ipykernel)",
   "language": "python",
   "name": "python3"
  },
  "language_info": {
   "codemirror_mode": {
    "name": "ipython",
    "version": 3
   },
   "file_extension": ".py",
   "mimetype": "text/x-python",
   "name": "python",
   "nbconvert_exporter": "python",
   "pygments_lexer": "ipython3",
   "version": "3.11.5"
  }
 },
 "nbformat": 4,
 "nbformat_minor": 5
}
