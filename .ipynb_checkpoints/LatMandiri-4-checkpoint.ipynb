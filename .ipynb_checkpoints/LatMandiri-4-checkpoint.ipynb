{
 "cells": [
  {
   "cell_type": "code",
   "execution_count": 1,
   "id": "4cbd892f",
   "metadata": {},
   "outputs": [
    {
     "name": "stdout",
     "output_type": "stream",
     "text": [
      "Masukkan panjang sisi 1: 4\n",
      "Masukkan panjang sisi 2: 6\n",
      "Masukkan panjang sisi 3: 6\n",
      "2 sisi sama\n"
     ]
    }
   ],
   "source": [
    "sisi1 = input(\"Masukkan panjang sisi 1: \")\n",
    "sisi2 = input(\"Masukkan panjang sisi 2: \")\n",
    "sisi3 = input(\"Masukkan panjang sisi 3: \")\n",
    "\n",
    "try:\n",
    "    sisi1 = int(sisi1)\n",
    "    sisi2 = int(sisi2)\n",
    "    sisi3 = int(sisi3)\n",
    "    if sisi1 == sisi2 and sisi2 == sisi3:\n",
    "        print(\"3 sisi sama\")\n",
    "    elif sisi1 == sisi2 or sisi1 == sisi3 or sisi2 == sisi3:\n",
    "        print(\"2 sisi sama\")\n",
    "    else:\n",
    "        print(\"Tidak ada yang sama\")\n",
    "except:\n",
    "    print(\"Inputan tidak valid, isi menggunakan angka!\")"
   ]
  },
  {
   "cell_type": "code",
   "execution_count": null,
   "id": "1896791f",
   "metadata": {},
   "outputs": [],
   "source": []
  }
 ],
 "metadata": {
  "kernelspec": {
   "display_name": "Python 3 (ipykernel)",
   "language": "python",
   "name": "python3"
  },
  "language_info": {
   "codemirror_mode": {
    "name": "ipython",
    "version": 3
   },
   "file_extension": ".py",
   "mimetype": "text/x-python",
   "name": "python",
   "nbconvert_exporter": "python",
   "pygments_lexer": "ipython3",
   "version": "3.11.5"
  }
 },
 "nbformat": 4,
 "nbformat_minor": 5
}
