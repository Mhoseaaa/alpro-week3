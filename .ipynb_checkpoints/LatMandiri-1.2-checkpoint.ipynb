{
 "cells": [
  {
   "cell_type": "code",
   "execution_count": 1,
   "id": "75524abf",
   "metadata": {},
   "outputs": [
    {
     "name": "stdout",
     "output_type": "stream",
     "text": [
      "Masukkan suatu bilangan: 3\n",
      "Positif\n"
     ]
    }
   ],
   "source": [
    "bilangan = input(\"Masukkan suatu bilangan: \")\n",
    "\n",
    "try:\n",
    "    bilangan = int(bilangan)\n",
    "    if bilangan > 0:\n",
    "        print(\"Positif\")\n",
    "    elif bilangan < 0:\n",
    "        print(\"Negatif\")\n",
    "    elif bilangan == 0:\n",
    "        print(\"Nol\")\n",
    "except:\n",
    "    print(\"Inputan tidak valid, isi menggunakan angka!\")"
   ]
  },
  {
   "cell_type": "code",
   "execution_count": 2,
   "id": "1e9d672e",
   "metadata": {},
   "outputs": [
    {
     "name": "stdout",
     "output_type": "stream",
     "text": [
      "Masukkan suatu bilangan: 2312\n",
      "Positif\n"
     ]
    }
   ],
   "source": [
    "bilangan = input(\"Masukkan suatu bilangan: \")\n",
    "\n",
    "try:\n",
    "    bilangan = int(bilangan)\n",
    "    if bilangan > 0:\n",
    "        print(\"Positif\")\n",
    "    elif bilangan < 0:\n",
    "        print(\"Negatif\")\n",
    "    elif bilangan == 0:\n",
    "        print(\"Nol\")\n",
    "except:\n",
    "    print(\"Inputan tidak valid, isi menggunakan angka!\")\n"
   ]
  },
  {
   "cell_type": "code",
   "execution_count": null,
   "id": "5abe152b",
   "metadata": {},
   "outputs": [],
   "source": []
  }
 ],
 "metadata": {
  "kernelspec": {
   "display_name": "Python 3 (ipykernel)",
   "language": "python",
   "name": "python3"
  },
  "language_info": {
   "codemirror_mode": {
    "name": "ipython",
    "version": 3
   },
   "file_extension": ".py",
   "mimetype": "text/x-python",
   "name": "python",
   "nbconvert_exporter": "python",
   "pygments_lexer": "ipython3",
   "version": "3.11.5"
  }
 },
 "nbformat": 4,
 "nbformat_minor": 5
}
