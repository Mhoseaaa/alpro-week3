{
 "cells": [
  {
   "cell_type": "code",
   "execution_count": null,
   "id": "757bcb8e",
   "metadata": {},
   "outputs": [],
   "source": [
    "suhu = input(\"Masukkan suhu tubuh: \")\n",
    "\n",
    "try:\n",
    "    suhu = int(suhu)\n",
    "    if suhu >= 38:\n",
    "        print(\"Anda demam\")\n",
    "    else:\n",
    "        print(\"Anda tidak demam\")\n",
    "except:\n",
    "    print(\"Inputan tidak valid, isi menggunakan angka!\")"
   ]
  }
 ],
 "metadata": {
  "kernelspec": {
   "display_name": "Python 3 (ipykernel)",
   "language": "python",
   "name": "python3"
  },
  "language_info": {
   "codemirror_mode": {
    "name": "ipython",
    "version": 3
   },
   "file_extension": ".py",
   "mimetype": "text/x-python",
   "name": "python",
   "nbconvert_exporter": "python",
   "pygments_lexer": "ipython3",
   "version": "3.11.5"
  }
 },
 "nbformat": 4,
 "nbformat_minor": 5
}
